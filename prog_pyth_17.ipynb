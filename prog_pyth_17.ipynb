{
 "cells": [
  {
   "cell_type": "markdown",
   "id": "4665ece8",
   "metadata": {},
   "source": [
    "# 1."
   ]
  },
  {
   "cell_type": "code",
   "execution_count": 1,
   "id": "4c1a0452",
   "metadata": {},
   "outputs": [
    {
     "name": "stdout",
     "output_type": "stream",
     "text": [
      "0\n",
      "30\n",
      "18\n"
     ]
    }
   ],
   "source": [
    "# code:\n",
    "def evenly_divisible(a, b, c):\n",
    "    # Initialize a variable to hold the sum\n",
    "    sum_divisible = 0\n",
    "    \n",
    "    # Loop through the range from a to b (inclusive)\n",
    "    for num in range(a, b+1):\n",
    "        # Check if the number is evenly divisible by c\n",
    "        if num % c == 0:\n",
    "            # Add the number to the sum\n",
    "            sum_divisible += num\n",
    "    \n",
    "    return sum_divisible\n",
    "\n",
    "# Test the function with the given examples\n",
    "print(evenly_divisible(1, 10, 20))  # ➞ 0\n",
    "print(evenly_divisible(1, 10, 2))   # ➞ 30\n",
    "print(evenly_divisible(1, 10, 3))   # ➞ 18"
   ]
  },
  {
   "cell_type": "markdown",
   "id": "02871c8a",
   "metadata": {},
   "source": [
    "# 2."
   ]
  },
  {
   "cell_type": "code",
   "execution_count": 2,
   "id": "bc69ae99",
   "metadata": {},
   "outputs": [
    {
     "name": "stdout",
     "output_type": "stream",
     "text": [
      "True\n",
      "False\n",
      "True\n"
     ]
    }
   ],
   "source": [
    "# code:\n",
    "def correct_signs(expression):\n",
    "    # Evaluate the expression and return the result\n",
    "    return eval(expression)\n",
    "\n",
    "# Test the function with the given examples\n",
    "print(correct_signs(\"3 < 7 < 11\"))        # ➞ True\n",
    "print(correct_signs(\"13 > 44 > 33 > 1\"))   # ➞ False\n",
    "print(correct_signs(\"1 < 2 < 6 < 9 > 3\"))  # ➞ True"
   ]
  },
  {
   "cell_type": "markdown",
   "id": "49460efd",
   "metadata": {},
   "source": [
    "# 3."
   ]
  },
  {
   "cell_type": "code",
   "execution_count": 5,
   "id": "8a05538a",
   "metadata": {},
   "outputs": [
    {
     "name": "stdout",
     "output_type": "stream",
     "text": [
      "th# ##rdv#rk\n",
      "sh*k*sp**r*\n"
     ]
    }
   ],
   "source": [
    "# code:\n",
    "def replace_vowels(string, replacement):\n",
    "    # Define a set of vowels\n",
    "    vowels = {'a', 'e', 'i', 'o', 'u', 'A', 'E', 'I', 'O', 'U'}\n",
    "    # Replace vowels with the specified character\n",
    "    new_string = ''.join(replacement if char in vowels else char for char in string)\n",
    "    return new_string\n",
    "\n",
    "# Test the function with the given examples\n",
    "print(replace_vowels(\"the aardvark\", \"#\"))   # ➞ \"th# ##rdv#rk\"\n",
    "print(replace_vowels(\"shakespeare\", \"*\"))    # ➞ \"sh*k*sp**r*\""
   ]
  },
  {
   "cell_type": "markdown",
   "id": "379cc00d",
   "metadata": {},
   "source": [
    "# 4."
   ]
  },
  {
   "cell_type": "code",
   "execution_count": 6,
   "id": "0a2d811b",
   "metadata": {},
   "outputs": [
    {
     "name": "stdout",
     "output_type": "stream",
     "text": [
      "120\n",
      "6\n"
     ]
    }
   ],
   "source": [
    "# code:\n",
    "def factorial(n):\n",
    "    # Base case: factorial of 0 or 1 is 1\n",
    "    if n == 0 or n == 1:\n",
    "        return 1\n",
    "    # Recursive case: factorial of n is n * factorial(n - 1)\n",
    "    else:\n",
    "        return n * factorial(n - 1)\n",
    "\n",
    "# Test the function with the given examples\n",
    "print(factorial(5))  # ➞ 120\n",
    "print(factorial(3))  # ➞ 6"
   ]
  },
  {
   "cell_type": "markdown",
   "id": "78416d0b",
   "metadata": {},
   "source": [
    "# 5."
   ]
  },
  {
   "cell_type": "code",
   "execution_count": 7,
   "id": "895b96ab",
   "metadata": {},
   "outputs": [
    {
     "name": "stdout",
     "output_type": "stream",
     "text": [
      "1\n"
     ]
    }
   ],
   "source": [
    "# code:\n",
    "def hamming_distance(str1, str2):\n",
    "    # Check if the lengths of the strings are equal\n",
    "    if len(str1) != len(str2):\n",
    "        raise ValueError(\"Strings must have equal length for Hamming distance calculation.\")\n",
    "    \n",
    "    # Initialize the distance to 0\n",
    "    distance = 0\n",
    "    \n",
    "    # Iterate through each character pair and compare\n",
    "    for char1, char2 in zip(str1, str2):\n",
    "        if char1 != char2:\n",
    "            distance += 1\n",
    "    \n",
    "    return distance\n",
    "\n",
    "# Test the function with the given example\n",
    "string1 = \"abcbba\"\n",
    "string2 = \"abcbda\"\n",
    "print(hamming_distance(string1, string2))  # Output: 1"
   ]
  },
  {
   "cell_type": "code",
   "execution_count": null,
   "id": "47938ab8",
   "metadata": {},
   "outputs": [],
   "source": []
  }
 ],
 "metadata": {
  "kernelspec": {
   "display_name": "Python 3 (ipykernel)",
   "language": "python",
   "name": "python3"
  },
  "language_info": {
   "codemirror_mode": {
    "name": "ipython",
    "version": 3
   },
   "file_extension": ".py",
   "mimetype": "text/x-python",
   "name": "python",
   "nbconvert_exporter": "python",
   "pygments_lexer": "ipython3",
   "version": "3.11.5"
  }
 },
 "nbformat": 4,
 "nbformat_minor": 5
}
